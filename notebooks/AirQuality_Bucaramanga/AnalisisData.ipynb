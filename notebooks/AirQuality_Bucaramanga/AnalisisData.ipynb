{
 "cells": [
  {
   "cell_type": "code",
   "execution_count": null,
   "metadata": {
    "collapsed": false
   },
   "outputs": [],
   "source": [
    "import json\n",
    "import datetime\n",
    "import requests\n"
   ]
  },
  {
   "cell_type": "code",
   "execution_count": 27,
   "metadata": {
    "collapsed": false
   },
   "outputs": [],
   "source": [
    "class DataRACIMO():\n",
    "    def __init__(self,Medicion):\n",
    "        self.time = Medicion[\"'valor'\"]\n",
    "        self.value = Medicion[\"fecha_hora_med\"]\n",
    "        self.typee = Medicion[\"id_parametro\"]\n",
    "\n",
    "class DataRACIMO(list):\n",
    "    Datos= {}\n",
    "    def __init__(self):\n",
    "        print \"Se creo\"\n",
    "    def append(Medicion):\n",
    "        if Medicion[\"id_parametro\"] in Datos:\n",
    "            print Datos[\"id_parametro\"]\n",
    "        else:\n",
    "            print 'No hay traducción para el color amarillo'\n",
    "\n",
    "    "
   ]
  },
  {
   "cell_type": "code",
   "execution_count": 28,
   "metadata": {
    "collapsed": false
   },
   "outputs": [
    {
     "name": "stdout",
     "output_type": "stream",
     "text": [
      "Se creo\n"
     ]
    },
    {
     "ename": "AttributeError",
     "evalue": "DataRACIMO instance has no attribute 'append'",
     "output_type": "error",
     "traceback": [
      "\u001b[0;31m---------------------------------------------------------------------------\u001b[0m",
      "\u001b[0;31mAttributeError\u001b[0m                            Traceback (most recent call last)",
      "\u001b[0;32m<ipython-input-28-c1f26c16ecf0>\u001b[0m in \u001b[0;36m<module>\u001b[0;34m()\u001b[0m\n\u001b[1;32m      4\u001b[0m     \u001b[0mDatosRacimo\u001b[0m \u001b[0;34m=\u001b[0m \u001b[0mDataRACIMO\u001b[0m\u001b[0;34m(\u001b[0m\u001b[0;34m)\u001b[0m\u001b[0;34m\u001b[0m\u001b[0m\n\u001b[1;32m      5\u001b[0m     \u001b[0;32mfor\u001b[0m \u001b[0mmediciones\u001b[0m \u001b[0;32min\u001b[0m \u001b[0mdata\u001b[0m\u001b[0;34m[\u001b[0m\u001b[0;34m'mediciones'\u001b[0m\u001b[0;34m]\u001b[0m\u001b[0;34m:\u001b[0m\u001b[0;34m\u001b[0m\u001b[0m\n\u001b[0;32m----> 6\u001b[0;31m         \u001b[0mDatosRacimo\u001b[0m\u001b[0;34m.\u001b[0m\u001b[0mappend\u001b[0m\u001b[0;34m(\u001b[0m\u001b[0mmediciones\u001b[0m\u001b[0;34m)\u001b[0m\u001b[0;34m\u001b[0m\u001b[0m\n\u001b[0m",
      "\u001b[0;31mAttributeError\u001b[0m: DataRACIMO instance has no attribute 'append'"
     ]
    }
   ],
   "source": [
    "# r = requests.get(\"http://racimo.mpsig.com:3000/racimohub/v013dev/mediciones/clg_itsdz/todos/2019-10-07T12:00:00Z\")\n",
    "with open('Datos.json') as file:\n",
    "    data = json.load(file)[0]\n",
    "    DatosRacimo = DataRACIMO()\n",
    "    for mediciones in data['mediciones']:\n",
    "        DatosRacimo.append(mediciones)\n"
   ]
  },
  {
   "cell_type": "code",
   "execution_count": 21,
   "metadata": {
    "collapsed": false
   },
   "outputs": [
    {
     "name": "stdout",
     "output_type": "stream",
     "text": [
      "{u'valor': 77, u'fecha_hora_med': u'2019-09-25T00:03:01.560Z', u'id_parametro': u'l_p'}\n"
     ]
    }
   ],
   "source": [
    "print DatosRacimo[0]\n"
   ]
  }
 ],
 "metadata": {
  "kernelspec": {
   "display_name": "Python 2",
   "language": "python",
   "name": "python2"
  },
  "language_info": {
   "codemirror_mode": {
    "name": "ipython",
    "version": 2
   },
   "file_extension": ".py",
   "mimetype": "text/x-python",
   "name": "python",
   "nbconvert_exporter": "python",
   "pygments_lexer": "ipython2",
   "version": "2.7.9"
  }
 },
 "nbformat": 4,
 "nbformat_minor": 1
}
